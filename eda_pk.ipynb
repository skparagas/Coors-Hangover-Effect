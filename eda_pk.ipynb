{
 "cells": [
  {
   "cell_type": "code",
   "execution_count": 31,
   "id": "aea938bb",
   "metadata": {},
   "outputs": [],
   "source": [
    "import numpy as np\n",
    "import pandas as pd\n",
    "import requests\n",
    "pd.set_option('display.max_columns', None)\n",
    "pd.set_option('display.max_rows', None)\n",
    "pd.options.display.width = 0\n",
    "pd.options.display.max_colwidth = 100\n",
    "from pybaseball import batting_stats, team_batting"
   ]
  },
  {
   "cell_type": "code",
   "execution_count": 33,
   "id": "bf58ddea",
   "metadata": {},
   "outputs": [
    {
     "data": {
      "text/html": [
       "<div>\n",
       "<style scoped>\n",
       "    .dataframe tbody tr th:only-of-type {\n",
       "        vertical-align: middle;\n",
       "    }\n",
       "\n",
       "    .dataframe tbody tr th {\n",
       "        vertical-align: top;\n",
       "    }\n",
       "\n",
       "    .dataframe thead th {\n",
       "        text-align: right;\n",
       "    }\n",
       "</style>\n",
       "<table border=\"1\" class=\"dataframe\">\n",
       "  <thead>\n",
       "    <tr style=\"text-align: right;\">\n",
       "      <th></th>\n",
       "      <th>data</th>\n",
       "      <th>totalCount</th>\n",
       "      <th>dateRange</th>\n",
       "      <th>dateRangeSeason</th>\n",
       "      <th>sortStat</th>\n",
       "      <th>sortDir</th>\n",
       "    </tr>\n",
       "  </thead>\n",
       "  <tbody>\n",
       "    <tr>\n",
       "      <th>0</th>\n",
       "      <td>[{'Bats': 'R', 'xMLBAMID': 592450, 'Name': '&lt;a href=\"statss.aspx?playerid=15640&amp;position=OF\"&gt;Aar...</td>\n",
       "      <td>155</td>\n",
       "      <td>2025-01-01 and 2025-12-31</td>\n",
       "      <td>2025 and 2025</td>\n",
       "      <td>war</td>\n",
       "      <td>desc</td>\n",
       "    </tr>\n",
       "  </tbody>\n",
       "</table>\n",
       "</div>"
      ],
      "text/plain": [
       "                                                                                                  data  \\\n",
       "0  [{'Bats': 'R', 'xMLBAMID': 592450, 'Name': '<a href=\"statss.aspx?playerid=15640&position=OF\">Aar...   \n",
       "\n",
       "   totalCount                  dateRange dateRangeSeason sortStat sortDir  \n",
       "0         155  2025-01-01 and 2025-12-31   2025 and 2025      war    desc  "
      ]
     },
     "execution_count": 33,
     "metadata": {},
     "output_type": "execute_result"
    }
   ],
   "source": [
    "response = requests.get('https://www.fangraphs.com/api/leaders/major-league/data?pos=all&stats=bat&lg=all&qual=y&type=8&season=2025&month=0&season1=2025&ind=0')\n",
    "test = response.json()\n",
    "\n",
    "df = pd.json_normalize(test)\n",
    "df.head()"
   ]
  }
 ],
 "metadata": {
  "kernelspec": {
   "display_name": ".venv",
   "language": "python",
   "name": "python3"
  },
  "language_info": {
   "codemirror_mode": {
    "name": "ipython",
    "version": 3
   },
   "file_extension": ".py",
   "mimetype": "text/x-python",
   "name": "python",
   "nbconvert_exporter": "python",
   "pygments_lexer": "ipython3",
   "version": "3.13.5"
  }
 },
 "nbformat": 4,
 "nbformat_minor": 5
}
