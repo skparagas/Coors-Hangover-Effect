{
 "cells": [
  {
   "cell_type": "code",
   "execution_count": 4,
   "id": "8b56b691",
   "metadata": {},
   "outputs": [],
   "source": [
    "import numpy as np\n",
    "import pandas as pd\n",
    "from pybaseball import batting_stats\n",
    "from pybaseball import team_batting, statcast\n",
    "from pybaseball import statcast_batter\n",
    "from pybaseball import team_game_logs\n",
    "pd.set_option('display.max_columns', None)\n",
    "pd.set_option('display.max_rows', None)\n",
    "pd.options.display.width = 0\n",
    "pd.options.display.max_colwidth = 100\n",
    "import warnings\n",
    "warnings.filterwarnings(action='ignore')"
   ]
  },
  {
   "cell_type": "code",
   "execution_count": 20,
   "id": "4ce789f2",
   "metadata": {},
   "outputs": [
    {
     "name": "stdout",
     "output_type": "stream",
     "text": [
      "This is a large query, it may take a moment to complete\n",
      "Skipping offseason dates\n",
      "Skipping offseason dates\n"
     ]
    },
    {
     "name": "stderr",
     "output_type": "stream",
     "text": [
      "100%|██████████| 246/246 [04:16<00:00,  1.04s/it]\n"
     ]
    }
   ],
   "source": [
    "df = statcast('2024-01-01', '2024-12-31')"
   ]
  },
  {
   "cell_type": "code",
   "execution_count": 21,
   "id": "817ad4ea",
   "metadata": {},
   "outputs": [
    {
     "name": "stdout",
     "output_type": "stream",
     "text": [
      "0.37455481498506094\n",
      "0.4173753160193059\n"
     ]
    }
   ],
   "source": [
    "col_df = df[(df.home_team == 'COL') & (df['description'] == 'hit_into_play') & (df['estimated_woba_using_speedangle'] != '<NA>')]\n",
    "#col_df.head()\n",
    "print(col_df['estimated_woba_using_speedangle'].mean())\n",
    "print(col_df['woba_value'].mean())"
   ]
  },
  {
   "cell_type": "code",
   "execution_count": 22,
   "id": "22e177bf",
   "metadata": {},
   "outputs": [
    {
     "name": "stdout",
     "output_type": "stream",
     "text": [
      "0.3659088763256716\n",
      "0.37357900383774195\n"
     ]
    }
   ],
   "source": [
    "in_play_df = df[(df['home_team'] != 'COL') & (df['description'] == 'hit_into_play') & (df['estimated_woba_using_speedangle'] != '<NA>')]\n",
    "print(in_play_df['estimated_woba_using_speedangle'].mean())\n",
    "print(in_play_df['woba_value'].mean())"
   ]
  }
 ],
 "metadata": {
  "kernelspec": {
   "display_name": ".venv",
   "language": "python",
   "name": "python3"
  },
  "language_info": {
   "codemirror_mode": {
    "name": "ipython",
    "version": 3
   },
   "file_extension": ".py",
   "mimetype": "text/x-python",
   "name": "python",
   "nbconvert_exporter": "python",
   "pygments_lexer": "ipython3",
   "version": "3.12.3"
  }
 },
 "nbformat": 4,
 "nbformat_minor": 5
}
